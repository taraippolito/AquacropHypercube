{
 "cells": [
  {
   "cell_type": "markdown",
   "id": "d96b2993-fcda-414a-b856-e2b0cac01db5",
   "metadata": {},
   "source": [
    "### Engineer growing season climate data for a given crop x treatment "
   ]
  },
  {
   "cell_type": "code",
   "execution_count": null,
   "id": "5ae1bb5f-9750-4016-a649-7e7183521a89",
   "metadata": {},
   "outputs": [],
   "source": [
    "import pandas as pd \n",
    "import os\n",
    "from IIASA_22_fxns import split_data, get_season_info, get_gs_climate"
   ]
  },
  {
   "cell_type": "code",
   "execution_count": null,
   "id": "53e73b66-ef5d-46b4-9a1e-a1308cf2cea2",
   "metadata": {},
   "outputs": [],
   "source": [
    "#### DATA SUBSETS TO RUN REGRESSION ON\n",
    "\n",
    "# identify data subsets to start with \n",
    "C = [\"WRYE\"] \n",
    "N = [\"BAU\", \"N01\", \"N50\", \"N100\", \"N250\"]\n",
    "R = [\"R00\", \"R30\", \"R60\", \"R90\"]\n",
    "\n",
    "# pull arguments to feed into function \n",
    "season_info_args = []\n",
    "for c in C:\n",
    "    for n in N: \n",
    "        if n != \"N01\":\n",
    "            for r in R: \n",
    "                season_info_args.append((c,n,r))\n",
    "        else:\n",
    "            # N01 only has R00 scenario for all crops\n",
    "            season_info_args.append((c,n,\"R00\"))"
   ]
  },
  {
   "cell_type": "code",
   "execution_count": null,
   "id": "419d7e9c-ec4c-4c3d-9c92-1e393713194c",
   "metadata": {},
   "outputs": [],
   "source": [
    "#### GET SEASON INFO FOR EACH TREATMENT\n",
    "\n",
    "season_info_dfs = []\n",
    "for arg in season_info_args: \n",
    "    season_info_dfs.append(get_season_info(arg))\n",
    "    print (arg, \"season info, done.\")"
   ]
  },
  {
   "cell_type": "code",
   "execution_count": null,
   "id": "c8880ef4-af38-417a-bfcd-fad63645cd81",
   "metadata": {},
   "outputs": [],
   "source": [
    "####SPLIT INTO SEASON-SPECIFIC DATAFRAMES\n",
    "\n",
    "#### Split seasonal-info dataframes into smaller dataframes where year, season length, and season start are unique\n",
    "#### output is a list of lists, first dimension is treatment season info df, second dimension is season start/len split\n",
    "split_dfs = []\n",
    "for df in season_info_dfs:\n",
    "    # add lists to split_df list that come out of split_data\n",
    "    split_dfs.append(split_data(df))"
   ]
  },
  {
   "cell_type": "code",
   "execution_count": null,
   "id": "7d679c81-aae4-4614-8471-7ae427f2b9f1",
   "metadata": {},
   "outputs": [],
   "source": [
    "#### IMPORT CLIMATE FILES \n",
    "path = \"//Users//taraippolito//Desktop//Desktop_Tara’s_MacBook_Pro//EPIC_local//_Weather\"\n",
    "# Import all weather data files\n",
    "pet_df = pd.read_csv(os.path.join(path, \"CORN_dyn_rf_BAU_R00_PET.txt\"), sep = \",\")\n",
    "prcp_df = pd.read_csv(os.path.join(path, \"CORN_dyn_rf_BAU_R00_PRCP.txt\"), sep = \",\")\n",
    "rad_df = pd.read_csv(os.path.join(path, \"CORN_dyn_rf_BAU_R00_RAD.txt\"), sep = \",\")\n",
    "tmean_df = pd.read_csv(os.path.join(path, \"CORN_dyn_rf_BAU_R00_TMEAN.txt\"), sep = \",\")\n",
    "vpd_df = pd.read_csv(os.path.join(path, \"CORN_dyn_rf_BAU_R00_VPD.txt\"), sep = \",\")\n",
    "cmd_df = pd.read_csv(os.path.join(path, \"CORN_dyn_rf_BAU_R00_CMD.txt\"), sep = \",\")"
   ]
  },
  {
   "cell_type": "code",
   "execution_count": null,
   "id": "1a25c5e1-7fcd-4901-a5d7-d9b59a444701",
   "metadata": {},
   "outputs": [],
   "source": [
    "#### GROWING SEASON VARIABLE CALCULATION\n",
    "# For the split up seasonal info dataframes, calculate growing season variables for a given climate variable \n",
    "climate_dfs = [pet_df, prcp_df, rad_df, tmean_df, vpd_df, cmd_df]\n",
    "\n",
    "# save growing season climate dataframes for each treatment \n",
    "GS_dfs = []\n",
    "# loop over the split dataframes of all treatments\n",
    "for i in range(len(split_dfs)):\n",
    "    # save growing season climate for each climate variable\n",
    "    GSclim_dfs = []\n",
    "    # loop over all climate variable\n",
    "    for clim_df in climate_dfs: \n",
    "        clim_out_list = []\n",
    "        # go over all the season len splits in a given treatment and get the climate cols for the seasonal split \n",
    "        for df in split_dfs[i]:\n",
    "            # get season x treatment specific engineered variables\n",
    "            clim_out_list.append(get_gs_climate((df, clim_df)))\n",
    "        # for all the splits, concatenate them vertically then add to the list\n",
    "        GSclim_dfs.append(pd.concat(clim_out_list))\n",
    "        print ('clim done')\n",
    "    # drop duplicate variables from new dataframes \n",
    "    concat_clim = pd.concat(GSclim_dfs, axis = 1)\n",
    "    ready = concat_clim.loc[:,~concat_clim.columns.duplicated()]\n",
    "    \n",
    "    GS_dfs.append(ready)\n",
    "    print (\"treatment done.\")"
   ]
  },
  {
   "cell_type": "code",
   "execution_count": null,
   "id": "de935fe3-24a9-4ac8-8633-5d35f7acb59f",
   "metadata": {},
   "outputs": [],
   "source": [
    "# list of growing season climate file names\n",
    "clim_df_names = [arg[0] + \"_\" + arg[1] + \"_\" + arg[2] + \"_GSclim.csv\" for arg in season_info_args]"
   ]
  },
  {
   "cell_type": "code",
   "execution_count": null,
   "id": "26dc6f9e-4903-4575-ab74-fc4169f76539",
   "metadata": {},
   "outputs": [],
   "source": [
    "# save growing season climate dataframes\n",
    "path = \"//Users//taraippolito//Desktop//Desktop_Tara’s_MacBook_Pro//EPIC_local//WRYE\"\n",
    "for i in range(len(GS_dfs)): \n",
    "    out_file =  os.path.join(path, clim_df_names[i])\n",
    "    GS_dfs[i].to_csv(out_file)"
   ]
  }
 ],
 "metadata": {
  "kernelspec": {
   "display_name": "Python 3 (ipykernel)",
   "language": "python",
   "name": "python3"
  },
  "language_info": {
   "codemirror_mode": {
    "name": "ipython",
    "version": 3
   },
   "file_extension": ".py",
   "mimetype": "text/x-python",
   "name": "python",
   "nbconvert_exporter": "python",
   "pygments_lexer": "ipython3",
   "version": "3.11.5"
  }
 },
 "nbformat": 4,
 "nbformat_minor": 5
}
