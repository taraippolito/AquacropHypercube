{
 "cells": [
  {
   "cell_type": "markdown",
   "id": "3360efb9-e756-4172-b630-da01be8ae7ee",
   "metadata": {},
   "source": [
    "#### widens climate data so each row of the data is unique to a simulation unit x year with climate variables in format variable x month, year is kept as separate column"
   ]
  },
  {
   "cell_type": "code",
   "execution_count": null,
   "id": "ff4bc1ed-ba43-4e58-9b8f-ad697429b200",
   "metadata": {},
   "outputs": [],
   "source": [
    "import pandas as pd \n",
    "import numpy as np\n",
    "import os "
   ]
  },
  {
   "cell_type": "code",
   "execution_count": null,
   "id": "fbec8029-cb04-4372-bf30-b726b4ab6e2b",
   "metadata": {},
   "outputs": [],
   "source": [
    "# Import simulation unit data and all weather data \n",
    "path = \"//Users//taraippolito//Desktop//Desktop_Tara’s_MacBook_Pro//EPIC_local\"\n",
    "simU_df = pd.read_csv(os.path.join(path, \"_SimUData//SimUID_List.txt\"), sep = \";\")\n",
    "pet_df = pd.read_csv(os.path.join(path, \"_Weather//CORN_dyn_rf_BAU_R00_PET.txt\"), sep = \",\")\n",
    "prcp_df = pd.read_csv(os.path.join(path, \"_Weather//CORN_dyn_rf_BAU_R00_PRCP.txt\"), sep = \",\")\n",
    "rad_df = pd.read_csv(os.path.join(path, \"_Weather//CORN_dyn_rf_BAU_R00_RAD.txt\"), sep = \",\")\n",
    "tmean_df = pd.read_csv(os.path.join(path, \"_Weather//CORN_dyn_rf_BAU_R00_TMEAN.txt\"), sep = \",\")\n",
    "vpd_df = pd.read_csv(os.path.join(path, \"_Weather//CORN_dyn_rf_BAU_R00_VPD.txt\"), sep = \",\")"
   ]
  },
  {
   "cell_type": "code",
   "execution_count": null,
   "id": "9e648cfc-c0b2-419b-9fa4-e6201a6d5d10",
   "metadata": {},
   "outputs": [],
   "source": [
    "# change year to string values\n",
    "for df in [pet_df, prcp_df, rad_df, tmean_df, vpd_df]: \n",
    "    df[\"YR\"] = df[\"YR\"].astype(str)\n",
    "    print (\"done.\")\n",
    "\n",
    "# get climate moisture deficit dataframe\n",
    "cols = ['JAN', 'FEB', 'MAR', 'APR', 'MAY', 'JUN', 'JUL', 'AUG', 'SEP', 'OCT', 'NOV', 'DEC']\n",
    "\n",
    "# start with just simuid and year columns, then build\n",
    "cmd_df = pet_df[[\"SimUID\", \"YR\"]]\n",
    "\n",
    "for i in range(len(cols)): \n",
    "    cmd_df[cols[i]] = prcp_df[cols[i]] - pet_df[cols[i]]\n",
    "\n",
    "cmd_df[\"VAR\"] = \"CMD\"\n",
    "cmd_df[\"AGG\"] = cmd_df[cols].sum(axis = 1)\n",
    "\n",
    "# create list to store cleaned dataframes in addition to simUID dataframe\n",
    "data_frames = []\n",
    "# change columns to be variable specific \n",
    "# for all climate dataframes\n",
    "for df in [pet_df, prcp_df, rad_df, tmean_df, vpd_df, cmd_df]:\n",
    "    # create mean column \n",
    "    df[\"MEAN\"] = (df.AGG / 12)    \n",
    "    # pull column names \n",
    "    cols = ['JAN', 'FEB', 'MAR', 'APR', 'MAY', 'JUN', 'JUL', 'AUG', 'SEP', 'OCT', 'NOV', 'DEC', 'AGG', \"MEAN\"]\n",
    "    # pull variable name \n",
    "    var = df.VAR.unique()[0]\n",
    "    # new column names \n",
    "    var_cols = [(col + \"_\" + var) for col in cols]\n",
    "    # drop the variable column \n",
    "    try:\n",
    "        df.drop([\"VAR\", \"CROP\", \"SCEN\"], axis = 1, inplace = True)\n",
    "    except: \n",
    "        df.drop([\"VAR\"], axis = 1, inplace = True)\n",
    "    df.columns = (['SimUID', 'YR'] + var_cols)\n",
    "    # append to list\n",
    "    data_frames.append(df)\n",
    "    print (\"done.\")\n",
    "\n",
    "data_frames.append(simU_df)\n",
    "\n",
    "# merge climate data  \n",
    "clim_merged = reduce(lambda left,right: pd.merge(left,right,on=['SimUID', 'YR'],\n",
    "                                            how='left'), data_frames[:-1])\n",
    "# merge simU data to climate data \n",
    "simU_merged = pd.merge(clim_merged, simU_df, on = \"SimUID\", how = \"left\")\n",
    "\n",
    "\n",
    "# calculate soil attributes for the full soil profile depth \n",
    "simU_merged['full_depth'] = simU_merged.TOPL + simU_merged.SUBL \n",
    "\n",
    "# average these variables using weighted average\n",
    "get_avgs = [\"SAND\", \"SILT\", \"CLAY\", \"BD\", \"BS\", \"CEC\", \"SOB\", \"PH\", \"VS\", \"KS\"]\n",
    "# sum these variables\n",
    "get_sums = [\"FWC\", \"WP\"]\n",
    "\n",
    "# calculate profile averages of variables \n",
    "for var in get_avgs: \n",
    "    av_me = [col for col in simU_merged.columns if var in col]\n",
    "    simU_merged[(var + \"_PROFILE\")] = simU_merged[av_me[0]] * (simU_merged.TOPL / simU_merged.full_depth) +  simU_merged[av_me[-1]] * (simU_merged.SUBL / simU_merged.full_depth)\n",
    " # calculate profile sum of variables   \n",
    "for var in get_sums: \n",
    "    av_me = [col for col in simU_merged.columns if var in col]\n",
    "    simU_merged[(var + \"_PROFILE\")] = simU_merged[av_me[0]] +  simU_merged[av_me[-1]]"
   ]
  },
  {
   "cell_type": "code",
   "execution_count": null,
   "id": "bfbbf121-622a-4077-b0a6-1cf7f4ca8bca",
   "metadata": {},
   "outputs": [],
   "source": [
    "# save files\n",
    "clim_merged.to_csv(os.path.join(path, \"_SimUData//SimUID_clim.csv\"))\n",
    "simU_merged.to_csv(os.path.join(path, \"_SimUData//SimUID_static+clim.csv\"))"
   ]
  }
 ],
 "metadata": {
  "kernelspec": {
   "display_name": "Python 3 (ipykernel)",
   "language": "python",
   "name": "python3"
  },
  "language_info": {
   "codemirror_mode": {
    "name": "ipython",
    "version": 3
   },
   "file_extension": ".py",
   "mimetype": "text/x-python",
   "name": "python",
   "nbconvert_exporter": "python",
   "pygments_lexer": "ipython3",
   "version": "3.11.5"
  }
 },
 "nbformat": 4,
 "nbformat_minor": 5
}
