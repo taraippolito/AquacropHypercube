{
 "cells": [
  {
   "cell_type": "code",
   "execution_count": 1,
   "id": "dd19f166",
   "metadata": {},
   "outputs": [],
   "source": [
    "import pandas as pd \n",
    "import numpy as np \n",
    "import matplotlib.pyplot as plt \n",
    "from functools import reduce\n",
    "import seaborn as sns\n",
    "import sklearn\n",
    "from sklearn.preprocessing import StandardScaler\n",
    "from sklearn.preprocessing import MinMaxScaler\n",
    "from sklearn.cluster import KMeans\n",
    "from sklearn.decomposition import PCA\n",
    "import matplotlib\n",
    "from matplotlib.lines import Line2D \n",
    "import os\n",
    "from sklearn import tree\n",
    "from sklearn.metrics import mean_squared_error \n",
    "from dtreeviz.trees import dtreeviz \n",
    "from  matplotlib.cm import ScalarMappable\n",
    "import warnings\n",
    "warnings.filterwarnings('ignore')\n",
    "# import pymc3 \n",
    "from sklearn.preprocessing import PolynomialFeatures\n",
    "from sklearn import linear_model\n",
    "import scipy\n",
    "from multiprocessing import Pool\n",
    "from IIASA_22_fxns import get_N_exp, get_season_info, get_gs_climate, row_gsy_climate, tt_split_scale, random_forest, yield_run_data, all_run_data"
   ]
  },
  {
   "cell_type": "code",
   "execution_count": 3,
   "id": "6b2d76ab",
   "metadata": {},
   "outputs": [],
   "source": [
    "# # simulation location data - X, Y, SimUID\n",
    "loc = pd.read_csv(\"//Users//taraippolito//Desktop//Desktop_Tara’s_MacBook_Pro//EPIC_local//SimUID_Pts_210_240.txt\", sep = \",\")\n",
    "\n",
    "# simulation units, all climate, site data - YEAR IS SEPARATE\n",
    "obs_df = pd.read_csv(\"//Users//taraippolito//Desktop//Desktop_Tara’s_MacBook_Pro//EPIC_local//_SimUData//SimUID_static+clim.csv\")\n",
    "\n",
    "# Growing season climate variables \n",
    "GS_bau = pd.read_csv(\"//Users//taraippolito//Desktop//Desktop_Tara’s_MacBook_Pro//EPIC_local//CORN//C_BAU_R00_GSclim.csv\") \n",
    "GS_n01 = pd.read_csv(\"//Users//taraippolito//Desktop//Desktop_Tara’s_MacBook_Pro//EPIC_local//CORN//C_N01_R00_GSclim.csv\") \n",
    "GS_n50 = pd.read_csv(\"//Users//taraippolito//Desktop//Desktop_Tara’s_MacBook_Pro//EPIC_local//CORN//C_N50_R00_GSclim.csv\") \n",
    "GS_n100 = pd.read_csv(\"//Users//taraippolito//Desktop//Desktop_Tara’s_MacBook_Pro//EPIC_local//CORN//C_N100_R00_GSclim.csv\") \n",
    "GS_n250 = pd.read_csv(\"//Users//taraippolito//Desktop//Desktop_Tara’s_MacBook_Pro//EPIC_local//CORN//C_N250_R00_GSclim.csv\") \n"
   ]
  },
  {
   "cell_type": "code",
   "execution_count": 20,
   "id": "35d08468",
   "metadata": {},
   "outputs": [],
   "source": [
    "# list of growing season climate dataframes\n",
    "GS_dfs = [GS_bau, GS_n01, GS_n50, GS_n100, GS_n250]"
   ]
  },
  {
   "cell_type": "code",
   "execution_count": 4,
   "id": "146a5a20",
   "metadata": {},
   "outputs": [],
   "source": [
    "#### identify data subset to start with \n",
    "C = [\"CORN\"] \n",
    "N = [\"BAU\", \"N01\", \"N50\", \"N100\", \"N250\"]\n",
    "# N = [\"BAU\"]\n",
    "R = [\"R00\"]"
   ]
  },
  {
   "cell_type": "code",
   "execution_count": 5,
   "id": "ae8fcd17",
   "metadata": {},
   "outputs": [],
   "source": [
    "#### Get season-specific info: start of season, end of season, length of season \n",
    "# pull arguments to feed into function in parallel\n",
    "season_info_args = []\n",
    "for c in C:\n",
    "    for n in N: \n",
    "        for r in R: \n",
    "            season_info_args.append((c,n,r))"
   ]
  },
  {
   "cell_type": "code",
   "execution_count": 28,
   "id": "49b902e5",
   "metadata": {
    "scrolled": true
   },
   "outputs": [
    {
     "name": "stdout",
     "output_type": "stream",
     "text": [
      "starting variable loop.\n",
      "FNO3  open.\n",
      "Index(['SimUID', 'CROP', 'SCEN', 'YR', 'YLDG', 'YLDF', 'YLC', 'BIOM', 'RW',\n",
      "       'FNO3_JAN', 'FNO3_FEB', 'FNO3_MAR', 'FNO3_APR', 'FNO3_MAY', 'FNO3_JUN',\n",
      "       'FNO3_JUL', 'FNO3_AUG', 'FNO3_SEP', 'FNO3_OCT', 'FNO3_NOV', 'FNO3_DEC',\n",
      "       'FNO3_AGG'],\n",
      "      dtype='object')\n",
      "FNO3  merged.\n",
      "TOC  open.\n",
      "Index(['SimUID', 'CROP', 'SCEN', 'YR', 'YLDG', 'YLDF', 'YLC', 'BIOM', 'RW',\n",
      "       'FNO3_JAN', 'FNO3_FEB', 'FNO3_MAR', 'FNO3_APR', 'FNO3_MAY', 'FNO3_JUN',\n",
      "       'FNO3_JUL', 'FNO3_AUG', 'FNO3_SEP', 'FNO3_OCT', 'FNO3_NOV', 'FNO3_DEC',\n",
      "       'FNO3_AGG', 'TOC_JAN', 'TOC_FEB', 'TOC_MAR', 'TOC_APR', 'TOC_MAY',\n",
      "       'TOC_JUN', 'TOC_JUL', 'TOC_AUG', 'TOC_SEP', 'TOC_OCT', 'TOC_NOV',\n",
      "       'TOC_DEC', 'TOC_AGG'],\n",
      "      dtype='object')\n",
      "TOC  merged.\n",
      "starting variable loop.\n",
      "FNO3  open.\n",
      "Index(['SimUID', 'CROP', 'SCEN', 'YR', 'YLDG', 'YLDF', 'YLC', 'BIOM', 'RW',\n",
      "       'FNO3_JAN', 'FNO3_FEB', 'FNO3_MAR', 'FNO3_APR', 'FNO3_MAY', 'FNO3_JUN',\n",
      "       'FNO3_JUL', 'FNO3_AUG', 'FNO3_SEP', 'FNO3_OCT', 'FNO3_NOV', 'FNO3_DEC',\n",
      "       'FNO3_AGG'],\n",
      "      dtype='object')\n",
      "FNO3  merged.\n",
      "TOC  open.\n",
      "Index(['SimUID', 'CROP', 'SCEN', 'YR', 'YLDG', 'YLDF', 'YLC', 'BIOM', 'RW',\n",
      "       'FNO3_JAN', 'FNO3_FEB', 'FNO3_MAR', 'FNO3_APR', 'FNO3_MAY', 'FNO3_JUN',\n",
      "       'FNO3_JUL', 'FNO3_AUG', 'FNO3_SEP', 'FNO3_OCT', 'FNO3_NOV', 'FNO3_DEC',\n",
      "       'FNO3_AGG', 'TOC_JAN', 'TOC_FEB', 'TOC_MAR', 'TOC_APR', 'TOC_MAY',\n",
      "       'TOC_JUN', 'TOC_JUL', 'TOC_AUG', 'TOC_SEP', 'TOC_OCT', 'TOC_NOV',\n",
      "       'TOC_DEC', 'TOC_AGG'],\n",
      "      dtype='object')\n",
      "TOC  merged.\n",
      "starting variable loop.\n",
      "FNO3  open.\n",
      "Index(['SimUID', 'CROP', 'SCEN', 'YR', 'YLDG', 'YLDF', 'YLC', 'BIOM', 'RW',\n",
      "       'FNO3_JAN', 'FNO3_FEB', 'FNO3_MAR', 'FNO3_APR', 'FNO3_MAY', 'FNO3_JUN',\n",
      "       'FNO3_JUL', 'FNO3_AUG', 'FNO3_SEP', 'FNO3_OCT', 'FNO3_NOV', 'FNO3_DEC',\n",
      "       'FNO3_AGG'],\n",
      "      dtype='object')\n",
      "FNO3  merged.\n",
      "TOC  open.\n",
      "Index(['SimUID', 'CROP', 'SCEN', 'YR', 'YLDG', 'YLDF', 'YLC', 'BIOM', 'RW',\n",
      "       'FNO3_JAN', 'FNO3_FEB', 'FNO3_MAR', 'FNO3_APR', 'FNO3_MAY', 'FNO3_JUN',\n",
      "       'FNO3_JUL', 'FNO3_AUG', 'FNO3_SEP', 'FNO3_OCT', 'FNO3_NOV', 'FNO3_DEC',\n",
      "       'FNO3_AGG', 'TOC_JAN', 'TOC_FEB', 'TOC_MAR', 'TOC_APR', 'TOC_MAY',\n",
      "       'TOC_JUN', 'TOC_JUL', 'TOC_AUG', 'TOC_SEP', 'TOC_OCT', 'TOC_NOV',\n",
      "       'TOC_DEC', 'TOC_AGG'],\n",
      "      dtype='object')\n",
      "TOC  merged.\n",
      "starting variable loop.\n",
      "FNO3  open.\n",
      "Index(['SimUID', 'CROP', 'SCEN', 'YR', 'YLDG', 'YLDF', 'YLC', 'BIOM', 'RW',\n",
      "       'FNO3_JAN', 'FNO3_FEB', 'FNO3_MAR', 'FNO3_APR', 'FNO3_MAY', 'FNO3_JUN',\n",
      "       'FNO3_JUL', 'FNO3_AUG', 'FNO3_SEP', 'FNO3_OCT', 'FNO3_NOV', 'FNO3_DEC',\n",
      "       'FNO3_AGG'],\n",
      "      dtype='object')\n",
      "FNO3  merged.\n",
      "TOC  open.\n",
      "Index(['SimUID', 'CROP', 'SCEN', 'YR', 'YLDG', 'YLDF', 'YLC', 'BIOM', 'RW',\n",
      "       'FNO3_JAN', 'FNO3_FEB', 'FNO3_MAR', 'FNO3_APR', 'FNO3_MAY', 'FNO3_JUN',\n",
      "       'FNO3_JUL', 'FNO3_AUG', 'FNO3_SEP', 'FNO3_OCT', 'FNO3_NOV', 'FNO3_DEC',\n",
      "       'FNO3_AGG', 'TOC_JAN', 'TOC_FEB', 'TOC_MAR', 'TOC_APR', 'TOC_MAY',\n",
      "       'TOC_JUN', 'TOC_JUL', 'TOC_AUG', 'TOC_SEP', 'TOC_OCT', 'TOC_NOV',\n",
      "       'TOC_DEC', 'TOC_AGG'],\n",
      "      dtype='object')\n",
      "TOC  merged.\n",
      "starting variable loop.\n",
      "FNO3  open.\n",
      "Index(['SimUID', 'CROP', 'SCEN', 'YR', 'YLDG', 'YLDF', 'YLC', 'BIOM', 'RW',\n",
      "       'FNO3_JAN', 'FNO3_FEB', 'FNO3_MAR', 'FNO3_APR', 'FNO3_MAY', 'FNO3_JUN',\n",
      "       'FNO3_JUL', 'FNO3_AUG', 'FNO3_SEP', 'FNO3_OCT', 'FNO3_NOV', 'FNO3_DEC',\n",
      "       'FNO3_AGG'],\n",
      "      dtype='object')\n",
      "FNO3  merged.\n",
      "TOC  open.\n",
      "Index(['SimUID', 'CROP', 'SCEN', 'YR', 'YLDG', 'YLDF', 'YLC', 'BIOM', 'RW',\n",
      "       'FNO3_JAN', 'FNO3_FEB', 'FNO3_MAR', 'FNO3_APR', 'FNO3_MAY', 'FNO3_JUN',\n",
      "       'FNO3_JUL', 'FNO3_AUG', 'FNO3_SEP', 'FNO3_OCT', 'FNO3_NOV', 'FNO3_DEC',\n",
      "       'FNO3_AGG', 'TOC_JAN', 'TOC_FEB', 'TOC_MAR', 'TOC_APR', 'TOC_MAY',\n",
      "       'TOC_JUN', 'TOC_JUL', 'TOC_AUG', 'TOC_SEP', 'TOC_OCT', 'TOC_NOV',\n",
      "       'TOC_DEC', 'TOC_AGG'],\n",
      "      dtype='object')\n",
      "TOC  merged.\n"
     ]
    }
   ],
   "source": [
    "#### pull nitrogen added value, pull yield, pull annual mean change in carbon \n",
    "more_data_dfs = []\n",
    "\n",
    "for arg in season_info_args: \n",
    "    more_data_dfs.append(all_run_data(arg))"
   ]
  },
  {
   "cell_type": "code",
   "execution_count": 29,
   "id": "819ae803",
   "metadata": {},
   "outputs": [
    {
     "name": "stdout",
     "output_type": "stream",
     "text": [
      "dyn_rf_BAU_R00  calculated change in carbon.\n",
      "dyn_rf_N01_R00  calculated change in carbon.\n",
      "dyn_rf_N50_R00  calculated change in carbon.\n",
      "dyn_rf_N100_R00  calculated change in carbon.\n",
      "dyn_rf_N250_R00  calculated change in carbon.\n"
     ]
    }
   ],
   "source": [
    "#### Calculate annual mean change in carbon \n",
    "for df in more_data_dfs:\n",
    "    TOC_cols = [col for col in df.columns if \"TOC\" in col and \"AGG\" not in col]\n",
    "    # calculate new columns that are differences between carbon columns \n",
    "    for i in range(len(TOC_cols) - 1): \n",
    "        new_col_name = \"diff\" + TOC_cols[i+1] +\"-\"+ TOC_cols[i] \n",
    "        df[new_col_name] = df[TOC_cols[i+1]] - df[TOC_cols[i]]\n",
    "    df[\"mean_TOC_change\"] = df[[col for col in df.columns if \"diff\" in col]].mean(axis = 1)\n",
    "    print (df.SCEN.unique()[0], \" calculated change in carbon.\")"
   ]
  },
  {
   "cell_type": "code",
   "execution_count": 39,
   "id": "1d0e37b6",
   "metadata": {},
   "outputs": [],
   "source": [
    "#### DROP COLUMNS USED IN CALCULATION \n",
    "for df in more_data_dfs: \n",
    "    df.reset_index(inplace = True)\n",
    "    keep_cols = ['SimUID', 'CROP', 'SCEN', 'YR', 'YLDG', 'YLDF', 'YLC', 'BIOM', 'RW', 'FNO3_AGG', 'mean_TOC_change']\n",
    "    drop_cols = [col for col in df.columns if col not in keep_cols]\n",
    "    df.drop(drop_cols, axis = 1, inplace = True)"
   ]
  },
  {
   "cell_type": "code",
   "execution_count": 43,
   "id": "36668e99",
   "metadata": {},
   "outputs": [
    {
     "name": "stdout",
     "output_type": "stream",
     "text": [
      "dyn_rf_BAU_R00  done.\n",
      "dyn_rf_N01_R00  done.\n",
      "dyn_rf_N50_R00  done.\n",
      "dyn_rf_N100_R00  done.\n",
      "dyn_rf_N250_R00  done.\n"
     ]
    }
   ],
   "source": [
    "#### PULL ALL DATA PIECES TOGETHER\n",
    "all_data_dfs = []\n",
    "\n",
    "for i in range(len(GS_dfs)): \n",
    "    # pull appropriate data frames\n",
    "    GS_df = GS_dfs[i]\n",
    "    more_data_df = more_data_dfs[i]\n",
    "    \n",
    "    # pull site specific data \n",
    "    # One-hot encode the soil hydrological group \n",
    "    HSG_dummy = pd.get_dummies(obs_df.HSG2, prefix = \"HSG\")\n",
    "    dummy_add = pd.concat([obs_df, HSG_dummy], axis = 1)\n",
    "\n",
    "    # MERGE THE SEPARATE DATA PIECES TOGETHER \n",
    "    predictor_in = pd.merge(dummy_add, GS_df, how = \"left\", on = [\"SimUID\", \"YR\"]).drop(['Unnamed: 0_x', 'Unnamed: 0_y', 'SimU', 'NUTS2',\n",
    "       'LCF3', 'HRU', 'ELEV_CAT', 'SLP_CAT', 'DTR', 'STONES',\n",
    "       'ELEV', 'HSG2'], axis = 1)\n",
    "    all_data = pd.merge(predictor_in, more_data_df, how = \"left\", on = [\"SimUID\", 'YR'])\n",
    "    # remove records before 1986, reset index, drop nans\n",
    "    all_data.drop(np.where(all_data.YR < 1986)[0], inplace = True)\n",
    "    all_data.dropna(inplace=True)\n",
    "    all_data.reset_index(drop = True, inplace = True)\n",
    "    all_data_dfs.append(all_data)\n",
    "    print (more_data_df.SCEN.unique()[0], \" done.\")"
   ]
  },
  {
   "cell_type": "code",
   "execution_count": 45,
   "id": "1e8c85fb",
   "metadata": {},
   "outputs": [],
   "source": [
    "#### DATAFRAME WITH ALL NITROGEN TREATMENTS\n",
    "corn_r00 = pd.concat(all_data_dfs)"
   ]
  },
  {
   "cell_type": "code",
   "execution_count": null,
   "id": "1292c601",
   "metadata": {},
   "outputs": [],
   "source": [
    "corn_r00[(corn_r00.PRCPavGS > 100) & (corn_r00.PRCPskGS < 0) & (corn_r00.SAND_TOP > 60)]"
   ]
  },
  {
   "cell_type": "code",
   "execution_count": 51,
   "id": "5c412d08",
   "metadata": {},
   "outputs": [
    {
     "data": {
      "text/plain": [
       "(array([ 390830., 1160760.,  704310.,  436390.,  489770.,  718420.,\n",
       "         664530., 1728035., 2349885., 2689735.,  683210.,  222435.,\n",
       "          87040.,  144840.,  224740.,  326060.,  328530.,  583055.,\n",
       "         469540.,  235110.]),\n",
       " array([ 6.   ,  9.755, 13.51 , 17.265, 21.02 , 24.775, 28.53 , 32.285,\n",
       "        36.04 , 39.795, 43.55 , 47.305, 51.06 , 54.815, 58.57 , 62.325,\n",
       "        66.08 , 69.835, 73.59 , 77.345, 81.1  ]),\n",
       " <BarContainer object of 20 artists>)"
      ]
     },
     "execution_count": 51,
     "metadata": {},
     "output_type": "execute_result"
    },
    {
     "data": {
      "image/png": "[encoded data removed]",
      "text/plain": [
       "<Figure size 432x288 with 1 Axes>"
      ]
     },
     "metadata": {
      "needs_background": "light"
     },
     "output_type": "display_data"
    }
   ],
   "source": [
    "plt.hist(corn_r00.SAND_TOP, bins = 20)"
   ]
  },
  {
   "cell_type": "code",
   "execution_count": null,
   "id": "94fe89a1",
   "metadata": {},
   "outputs": [],
   "source": [
    "#### A PRIORI DATA CHOICE \n",
    "# low precipitation, left skewed precipitation, sandy soil \n",
    "cluster1 = all_data[(all_data.PRCPavGS < 40) & (all_data.PRCPskGS < 0) & (all_data.SAND_TOP > 60)]\n",
    "print (\"there are\", len(cluster), \"points in cluster 1.\")\n",
    "\n",
    "# low precipitation, left skewed precipitation, sandy soil \n",
    "cluster2 = all_data[(all_data.PRCPavGS > 100) & (all_data.PRCPskGS < 0) & (all_data.SAND_TOP > 60)]\n",
    "print (\"there are\", len(cluster), \"points in cluster 2.\")\n",
    "\n",
    "# low precipitation, left skewed precipitation, sandy soil \n",
    "cluster3 = all_data[(all_data.PRCPavGS < 40) & (all_data.PRCPskGS < 0) & (all_data.SAND_TOP < 40)]\n",
    "print (\"there are\", len(cluster), \"points in cluster 3.\")\n",
    "\n",
    "# low precipitation, left skewed precipitation, sandy soil \n",
    "cluster4 = all_data[(all_data.PRCPavGS > 100) & (all_data.PRCPskGS < 0) & (all_data.SAND_TOP > 40)]\n",
    "print (\"there are\", len(cluster), \"points in cluster 4.\")"
   ]
  }
 ],
 "metadata": {
  "kernelspec": {
   "display_name": "Python 3 (ipykernel)",
   "language": "python",
   "name": "python3"
  },
  "language_info": {
   "codemirror_mode": {
    "name": "ipython",
    "version": 3
   },
   "file_extension": ".py",
   "mimetype": "text/x-python",
   "name": "python",
   "nbconvert_exporter": "python",
   "pygments_lexer": "ipython3",
   "version": "3.8.13"
  }
 },
 "nbformat": 4,
 "nbformat_minor": 5
}
